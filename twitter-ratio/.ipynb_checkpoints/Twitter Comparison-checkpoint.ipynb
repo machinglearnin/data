{
 "cells": [
  {
   "cell_type": "code",
   "execution_count": 1,
   "metadata": {},
   "outputs": [
    {
     "data": {
      "text/html": [
       "<div>\n",
       "<style scoped>\n",
       "    .dataframe tbody tr th:only-of-type {\n",
       "        vertical-align: middle;\n",
       "    }\n",
       "\n",
       "    .dataframe tbody tr th {\n",
       "        vertical-align: top;\n",
       "    }\n",
       "\n",
       "    .dataframe thead th {\n",
       "        text-align: right;\n",
       "    }\n",
       "</style>\n",
       "<table border=\"1\" class=\"dataframe\">\n",
       "  <thead>\n",
       "    <tr style=\"text-align: right;\">\n",
       "      <th></th>\n",
       "      <th>created_at</th>\n",
       "      <th>text</th>\n",
       "      <th>url</th>\n",
       "      <th>replies</th>\n",
       "      <th>retweets</th>\n",
       "      <th>favorites</th>\n",
       "      <th>user</th>\n",
       "    </tr>\n",
       "  </thead>\n",
       "  <tbody>\n",
       "    <tr>\n",
       "      <th>0</th>\n",
       "      <td>10/23/17 12:30</td>\n",
       "      <td>I had a very respectful conversation with the ...</td>\n",
       "      <td>https://twitter.com/realDonaldTrump/status/922...</td>\n",
       "      <td>46228</td>\n",
       "      <td>10243</td>\n",
       "      <td>49468</td>\n",
       "      <td>realDonaldTrump</td>\n",
       "    </tr>\n",
       "    <tr>\n",
       "      <th>1</th>\n",
       "      <td>10/23/17 11:53</td>\n",
       "      <td>Two dozen NFL players continue to kneel during...</td>\n",
       "      <td>https://twitter.com/realDonaldTrump/status/922...</td>\n",
       "      <td>31419</td>\n",
       "      <td>14006</td>\n",
       "      <td>62406</td>\n",
       "      <td>realDonaldTrump</td>\n",
       "    </tr>\n",
       "    <tr>\n",
       "      <th>2</th>\n",
       "      <td>10/23/17 11:42</td>\n",
       "      <td>There will be NO change to your 401(k). This h...</td>\n",
       "      <td>https://twitter.com/realDonaldTrump/status/922...</td>\n",
       "      <td>9552</td>\n",
       "      <td>13719</td>\n",
       "      <td>62662</td>\n",
       "      <td>realDonaldTrump</td>\n",
       "    </tr>\n",
       "    <tr>\n",
       "      <th>3</th>\n",
       "      <td>10/22/17 12:08</td>\n",
       "      <td>It is finally sinking through. 46% OF PEOPLE B...</td>\n",
       "      <td>https://twitter.com/realDonaldTrump/status/922...</td>\n",
       "      <td>56238</td>\n",
       "      <td>25102</td>\n",
       "      <td>112890</td>\n",
       "      <td>realDonaldTrump</td>\n",
       "    </tr>\n",
       "    <tr>\n",
       "      <th>4</th>\n",
       "      <td>10/22/17 12:02</td>\n",
       "      <td>Wacky Congresswoman Wilson is the gift that ke...</td>\n",
       "      <td>https://twitter.com/realDonaldTrump/status/922...</td>\n",
       "      <td>32136</td>\n",
       "      <td>21573</td>\n",
       "      <td>97145</td>\n",
       "      <td>realDonaldTrump</td>\n",
       "    </tr>\n",
       "  </tbody>\n",
       "</table>\n",
       "</div>"
      ],
      "text/plain": [
       "       created_at                                               text  \\\n",
       "0  10/23/17 12:30  I had a very respectful conversation with the ...   \n",
       "1  10/23/17 11:53  Two dozen NFL players continue to kneel during...   \n",
       "2  10/23/17 11:42  There will be NO change to your 401(k). This h...   \n",
       "3  10/22/17 12:08  It is finally sinking through. 46% OF PEOPLE B...   \n",
       "4  10/22/17 12:02  Wacky Congresswoman Wilson is the gift that ke...   \n",
       "\n",
       "                                                 url  replies  retweets  \\\n",
       "0  https://twitter.com/realDonaldTrump/status/922...    46228     10243   \n",
       "1  https://twitter.com/realDonaldTrump/status/922...    31419     14006   \n",
       "2  https://twitter.com/realDonaldTrump/status/922...     9552     13719   \n",
       "3  https://twitter.com/realDonaldTrump/status/922...    56238     25102   \n",
       "4  https://twitter.com/realDonaldTrump/status/922...    32136     21573   \n",
       "\n",
       "   favorites             user  \n",
       "0      49468  realDonaldTrump  \n",
       "1      62406  realDonaldTrump  \n",
       "2      62662  realDonaldTrump  \n",
       "3     112890  realDonaldTrump  \n",
       "4      97145  realDonaldTrump  "
      ]
     },
     "execution_count": 1,
     "metadata": {},
     "output_type": "execute_result"
    }
   ],
   "source": [
    "import pandas as pd \n",
    "import numpy as np\n",
    "import matplotlib.pyplot as plt\n",
    "%matplotlib inline\n",
    "\n",
    "TrumpTweets = pd.read_csv(\"realDonaldTrump.csv\")\n",
    "TrumpTweets.head()"
   ]
  },
  {
   "cell_type": "code",
   "execution_count": 14,
   "metadata": {},
   "outputs": [],
   "source": [
    "TrumpTweets['About Clinton'] = TrumpTweets['text'].str.contains(\"Clinton\")\n",
    "Tweets_about_Clinton = TrumpTweets[TrumpTweets['About Clinton']]"
   ]
  },
  {
   "cell_type": "code",
   "execution_count": 21,
   "metadata": {
    "scrolled": true
   },
   "outputs": [
    {
     "data": {
      "image/png": "[encoded data removed]",
      "text/plain": [
       "<Figure size 432x288 with 1 Axes>"
      ]
     },
     "metadata": {
      "needs_background": "light"
     },
     "output_type": "display_data"
    }
   ],
   "source": [
    "plt.scatter(Tweets_about_Clinton['replies'], Tweets_about_Clinton['retweets'])\n",
    "plt.title(\"Replies and Retweets for Trump Tweets about Clinton\")\n",
    "plt.xlabel(\"# of replies\")\n",
    "plt.ylabel(\"# of retweets\")\n",
    "plt.show()"
   ]
  },
  {
   "cell_type": "code",
   "execution_count": 38,
   "metadata": {},
   "outputs": [
    {
     "data": {
      "image/png": "[encoded data removed]",
      "text/plain": [
       "<Figure size 432x288 with 1 Axes>"
      ]
     },
     "metadata": {
      "needs_background": "light"
     },
     "output_type": "display_data"
    },
    {
     "name": "stdout",
     "output_type": "stream",
     "text": [
      "R squared: 0.5675625040756124\n"
     ]
    }
   ],
   "source": [
    "import scipy.stats as stats\n",
    "#fits linear regression for Retweets and Replies\n",
    "slope, intercept, r_value, p_value, std_err = stats.linregress(Tweets_about_Clinton['replies'], Tweets_about_Clinton['retweets'])\n",
    "\n",
    "#creates scatter plot of retweets and replies and draws line of best fit\n",
    "plt.scatter(Tweets_about_Clinton['replies'], Tweets_about_Clinton['retweets'])\n",
    "plt.title(\"Replies and Retweets for Trump Tweets about Clinton\")\n",
    "plt.xlabel(\"# of replies\")\n",
    "plt.ylabel(\"# of retweets\")\n",
    "plt.plot(Tweets_about_Clinton['replies'], slope * Tweets_about_Clinton['replies'] + intercept, color = 'r')\n",
    "plt.show()\n",
    "print \"R squared:\", r_value ** 2"
   ]
  },
  {
   "cell_type": "code",
   "execution_count": 27,
   "metadata": {},
   "outputs": [
    {
     "data": {
      "text/html": [
       "<div>\n",
       "<style scoped>\n",
       "    .dataframe tbody tr th:only-of-type {\n",
       "        vertical-align: middle;\n",
       "    }\n",
       "\n",
       "    .dataframe tbody tr th {\n",
       "        vertical-align: top;\n",
       "    }\n",
       "\n",
       "    .dataframe thead th {\n",
       "        text-align: right;\n",
       "    }\n",
       "</style>\n",
       "<table border=\"1\" class=\"dataframe\">\n",
       "  <thead>\n",
       "    <tr style=\"text-align: right;\">\n",
       "      <th></th>\n",
       "      <th>created_at</th>\n",
       "      <th>text</th>\n",
       "      <th>url</th>\n",
       "      <th>replies</th>\n",
       "      <th>retweets</th>\n",
       "      <th>favorites</th>\n",
       "      <th>user</th>\n",
       "      <th>About Clinton</th>\n",
       "    </tr>\n",
       "  </thead>\n",
       "  <tbody>\n",
       "    <tr>\n",
       "      <th>0</th>\n",
       "      <td>10/23/17 12:30</td>\n",
       "      <td>I had a very respectful conversation with the ...</td>\n",
       "      <td>https://twitter.com/realDonaldTrump/status/922...</td>\n",
       "      <td>46228</td>\n",
       "      <td>10243</td>\n",
       "      <td>49468</td>\n",
       "      <td>realDonaldTrump</td>\n",
       "      <td>False</td>\n",
       "    </tr>\n",
       "    <tr>\n",
       "      <th>1</th>\n",
       "      <td>10/23/17 11:53</td>\n",
       "      <td>Two dozen NFL players continue to kneel during...</td>\n",
       "      <td>https://twitter.com/realDonaldTrump/status/922...</td>\n",
       "      <td>31419</td>\n",
       "      <td>14006</td>\n",
       "      <td>62406</td>\n",
       "      <td>realDonaldTrump</td>\n",
       "      <td>False</td>\n",
       "    </tr>\n",
       "    <tr>\n",
       "      <th>2</th>\n",
       "      <td>10/23/17 11:42</td>\n",
       "      <td>There will be NO change to your 401(k). This h...</td>\n",
       "      <td>https://twitter.com/realDonaldTrump/status/922...</td>\n",
       "      <td>9552</td>\n",
       "      <td>13719</td>\n",
       "      <td>62662</td>\n",
       "      <td>realDonaldTrump</td>\n",
       "      <td>False</td>\n",
       "    </tr>\n",
       "    <tr>\n",
       "      <th>3</th>\n",
       "      <td>10/22/17 12:08</td>\n",
       "      <td>It is finally sinking through. 46% OF PEOPLE B...</td>\n",
       "      <td>https://twitter.com/realDonaldTrump/status/922...</td>\n",
       "      <td>56238</td>\n",
       "      <td>25102</td>\n",
       "      <td>112890</td>\n",
       "      <td>realDonaldTrump</td>\n",
       "      <td>False</td>\n",
       "    </tr>\n",
       "    <tr>\n",
       "      <th>4</th>\n",
       "      <td>10/22/17 12:02</td>\n",
       "      <td>Wacky Congresswoman Wilson is the gift that ke...</td>\n",
       "      <td>https://twitter.com/realDonaldTrump/status/922...</td>\n",
       "      <td>32136</td>\n",
       "      <td>21573</td>\n",
       "      <td>97145</td>\n",
       "      <td>realDonaldTrump</td>\n",
       "      <td>False</td>\n",
       "    </tr>\n",
       "  </tbody>\n",
       "</table>\n",
       "</div>"
      ],
      "text/plain": [
       "       created_at                                               text  \\\n",
       "0  10/23/17 12:30  I had a very respectful conversation with the ...   \n",
       "1  10/23/17 11:53  Two dozen NFL players continue to kneel during...   \n",
       "2  10/23/17 11:42  There will be NO change to your 401(k). This h...   \n",
       "3  10/22/17 12:08  It is finally sinking through. 46% OF PEOPLE B...   \n",
       "4  10/22/17 12:02  Wacky Congresswoman Wilson is the gift that ke...   \n",
       "\n",
       "                                                 url  replies  retweets  \\\n",
       "0  https://twitter.com/realDonaldTrump/status/922...    46228     10243   \n",
       "1  https://twitter.com/realDonaldTrump/status/922...    31419     14006   \n",
       "2  https://twitter.com/realDonaldTrump/status/922...     9552     13719   \n",
       "3  https://twitter.com/realDonaldTrump/status/922...    56238     25102   \n",
       "4  https://twitter.com/realDonaldTrump/status/922...    32136     21573   \n",
       "\n",
       "   favorites             user  About Clinton  \n",
       "0      49468  realDonaldTrump          False  \n",
       "1      62406  realDonaldTrump          False  \n",
       "2      62662  realDonaldTrump          False  \n",
       "3     112890  realDonaldTrump          False  \n",
       "4      97145  realDonaldTrump          False  "
      ]
     },
     "execution_count": 27,
     "metadata": {},
     "output_type": "execute_result"
    }
   ],
   "source": [
    "Tweets_not_about_Clinton = TrumpTweets[TrumpTweets['About Clinton'] == False]\n"
   ]
  },
  {
   "cell_type": "code",
   "execution_count": 28,
   "metadata": {},
   "outputs": [
    {
     "data": {
      "image/png": "[encoded data removed]",
      "text/plain": [
       "<Figure size 432x288 with 1 Axes>"
      ]
     },
     "metadata": {
      "needs_background": "light"
     },
     "output_type": "display_data"
    }
   ],
   "source": [
    "plt.scatter(Tweets_not_about_Clinton['replies'], Tweets_not_about_Clinton['retweets'])\n",
    "plt.title(\"Replies and Retweets for Trump Tweets that do not mention Clinton\")\n",
    "plt.xlabel(\"# of replies\")\n",
    "plt.ylabel(\"# of retweets\")\n",
    "plt.show()"
   ]
  },
  {
   "cell_type": "code",
   "execution_count": 40,
   "metadata": {
    "scrolled": true
   },
   "outputs": [
    {
     "data": {
      "image/png": "[encoded data removed]",
      "text/plain": [
       "<Figure size 432x288 with 1 Axes>"
      ]
     },
     "metadata": {
      "needs_background": "light"
     },
     "output_type": "display_data"
    }
   ],
   "source": [
    "#creates scatter plot of retweets and replies and draws line of best fit for Clinton Tweets\n",
    "plt.scatter(Tweets_about_Clinton['replies'], Tweets_about_Clinton['retweets'], color = 'blue')\n",
    "plt.title(\"Replies and Retweets for Trump Tweets about Clinton\")\n",
    "plt.xlabel(\"# of replies\")\n",
    "plt.ylabel(\"# of retweets\")\n",
    "plt.plot(Tweets_about_Clinton['replies'], slope * Tweets_about_Clinton['replies'] + intercept, color = 'b')\n",
    "\n",
    "#creates line of best fit for non clinton tweets\n",
    "slope_2, intercept_2, r_value_2, p_value_2, std_err_2 = stats.linregress(Tweets_not_about_Clinton['replies'], Tweets_not_about_Clinton['retweets'])\n",
    "plt.scatter(Tweets_not_about_Clinton['replies'], Tweets_not_about_Clinton['retweets'], color = 'r')\n",
    "plt.title(\"Replies and Retweets for Trump Tweets not about Clinton\")\n",
    "plt.xlabel(\"# of replies\")\n",
    "plt.ylabel(\"# of retweets\")\n",
    "plt.plot(Tweets_not_about_Clinton['replies'], slope_2 * Tweets_not_about_Clinton['replies'] + intercept_2, color = 'b')\n",
    "plt.show()\n"
   ]
  },
  {
   "cell_type": "code",
   "execution_count": 52,
   "metadata": {},
   "outputs": [
    {
     "name": "stdout",
     "output_type": "stream",
     "text": [
      "count      3232.000000\n",
      "mean      16315.450186\n",
      "std       13963.667385\n",
      "min        1525.000000\n",
      "25%        8970.250000\n",
      "50%       13598.000000\n",
      "75%       19804.500000\n",
      "max      365461.000000\n",
      "Name: retweets, dtype: float64\n"
     ]
    },
    {
     "data": {
      "image/png": "[encoded data removed]",
      "text/plain": [
       "<Figure size 432x288 with 1 Axes>"
      ]
     },
     "metadata": {
      "needs_background": "light"
     },
     "output_type": "display_data"
    }
   ],
   "source": [
    "print TrumpTweets.retweets.describe()\n",
    "plt.boxplot(TrumpTweets.retweets)\n",
    "plt.show()"
   ]
  },
  {
   "cell_type": "code",
   "execution_count": 57,
   "metadata": {},
   "outputs": [
    {
     "data": {
      "text/plain": [
       "0.24628712871287128"
      ]
     },
     "execution_count": 57,
     "metadata": {},
     "output_type": "execute_result"
    }
   ],
   "source": [
    "np.mean(TrumpTweets.retweets > 20000)"
   ]
  },
  {
   "cell_type": "code",
   "execution_count": 70,
   "metadata": {},
   "outputs": [],
   "source": [
    "TrumpTweets['Popular'] = TrumpTweets['retweets'] > TrumpTweets['retweets'].mean()"
   ]
  },
  {
   "cell_type": "markdown",
   "metadata": {},
   "source": [
    "## Building a Naive Bayes Classifier"
   ]
  },
  {
   "cell_type": "code",
   "execution_count": 71,
   "metadata": {},
   "outputs": [
    {
     "data": {
      "text/plain": [
       "MultinomialNB(alpha=1.0, class_prior=None, fit_prior=True)"
      ]
     },
     "execution_count": 71,
     "metadata": {},
     "output_type": "execute_result"
    }
   ],
   "source": [
    "from sklearn.feature_extraction.text import CountVectorizer\n",
    "from sklearn.naive_bayes import MultinomialNB\n",
    "from sklearn.model_selection import train_test_split\n",
    "\n",
    "#creates a matrix with counts of each for for each tweet\n",
    "Vectorizer = CountVectorizer(decode_error = 'replace')\n",
    "counts = Vectorizer.fit_transform(TrumpTweets['text'].values)\n",
    "targets = TrumpTweets['Popular']\n",
    "\n",
    "#splits data into train and test set\n",
    "counts_train, counts_test, targets_train, targets_test = train_test_split(counts, targets, test_size = .1)\n",
    "\n",
    "clf = MultinomialNB()\n",
    "clf.fit(counts_train, targets_train)"
   ]
  },
  {
   "cell_type": "code",
   "execution_count": 72,
   "metadata": {},
   "outputs": [
    {
     "name": "stdout",
     "output_type": "stream",
     "text": [
      "0.7006172839506173\n"
     ]
    }
   ],
   "source": [
    "print clf.score(counts_test, targets_test)"
   ]
  },
  {
   "cell_type": "code",
   "execution_count": 73,
   "metadata": {},
   "outputs": [
    {
     "name": "stdout",
     "output_type": "stream",
     "text": [
      "0.7131782945736435\n",
      "0.6052631578947368\n"
     ]
    }
   ],
   "source": [
    "from sklearn.metrics import recall_score, precision_score\n",
    "predictions = clf.predict(counts_test)\n",
    "print recall_score(targets_test, predictions)\n",
    "print precision_score(targets_test, predictions)"
   ]
  },
  {
   "cell_type": "code",
   "execution_count": 40,
   "metadata": {},
   "outputs": [
    {
     "name": "stdout",
     "output_type": "stream",
     "text": [
      "It is finally sinking through. 46% OF PEOPLE BELIEVE MAJOR NATIONAL NEWS ORGS FABRICATE STORIES ABOUT ME. FAKE NEWS, even worse! Lost cred.\n",
      "[10243]\n",
      "25102\n"
     ]
    }
   ],
   "source": [
    "print TrumpTweets.text.values[3]\n",
    "print clf.predict(Vectorizer.transform(TrumpTweets.text.values[0:1]))\n",
    "print TrumpTweets.retweets.values[3]"
   ]
  },
  {
   "cell_type": "code",
   "execution_count": 76,
   "metadata": {},
   "outputs": [
    {
     "data": {
      "text/plain": [
       "array([ True,  True,  True,  True,  True,  True])"
      ]
     },
     "execution_count": 76,
     "metadata": {},
     "output_type": "execute_result"
    }
   ],
   "source": [
    "examples = ['Crooked Hilary Sad', 'Fake News CNN', \"Little Rocket Man\", \"NFL Anthem\", \"Wall illegal immigration\", \"thanked white house christmas\"]\n",
    "example_counts = Vectorizer.transform(examples)\n",
    "clf.predict(example_counts)"
   ]
  }
 ],
 "metadata": {
  "kernelspec": {
   "display_name": "Python 2",
   "language": "python",
   "name": "python2"
  },
  "language_info": {
   "codemirror_mode": {
    "name": "ipython",
    "version": 2
   },
   "file_extension": ".py",
   "mimetype": "text/x-python",
   "name": "python",
   "nbconvert_exporter": "python",
   "pygments_lexer": "ipython2",
   "version": "2.7.16"
  }
 },
 "nbformat": 4,
 "nbformat_minor": 2
}
